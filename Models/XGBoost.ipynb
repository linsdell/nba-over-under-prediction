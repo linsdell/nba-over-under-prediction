{
  "nbformat": 4,
  "nbformat_minor": 0,
  "metadata": {
    "colab": {
      "name": "XGBoost.ipynb",
      "provenance": [],
      "collapsed_sections": []
    },
    "kernelspec": {
      "name": "python3",
      "display_name": "Python 3"
    }
  },
  "cells": [
    {
      "cell_type": "code",
      "metadata": {
        "id": "cSXpv4RDP8in",
        "colab_type": "code",
        "outputId": "a2d376fa-fbf6-48bb-8cdd-4f67b3298526",
        "colab": {
          "base_uri": "https://localhost:8080/",
          "height": 122
        }
      },
      "source": [
        "import datetime\n",
        "import numpy as np\n",
        "import os\n",
        "import pandas as pd\n",
        "import random\n",
        "from tqdm import tqdm\n",
        "from sklearn.model_selection import train_test_split\n",
        "import xgboost as xgb\n",
        "import csv\n",
        "\n",
        "random_seed = 0\n",
        "random.seed(random_seed)\n",
        "np.random.seed(random_seed)\n",
        "\n",
        "# Importing the dataset\n",
        "dataset = pd.read_csv('nba_data_v2.csv')\n",
        "\n",
        "# predicting the total score\n",
        "y = dataset[\"Total.Score\"]\n",
        "X = dataset.iloc[:, 4:236]\n",
        "\n",
        "X_training = X.drop(columns=['Line'])\n",
        "\n",
        "from sklearn.model_selection import train_test_split\n",
        "x_train, x_test, y_train, y_test = train_test_split(X_training, y, test_size = 0.20)\n",
        "\n",
        "def rmsle(y_true, y_pred):\n",
        "    assert len(y_true) == len(y_pred)\n",
        "    return np.sqrt(np.mean(np.power(np.log1p(y_true + 1) - np.log1p(y_pred + 1), 2)))\n",
        "\n",
        "D_train = xgb.DMatrix(x_train, label=y_train)\n",
        "D_test = xgb.DMatrix(x_test, label=y_test)\n",
        "steps = 10\n",
        "\n",
        "\n",
        "xg_reg = xgb.XGBRegressor(objective ='reg:linear', colsample_bytree = 0.3, eta = 0.01,\n",
        "                max_depth = 15, alpha = 0, n_estimators = 22, booster = 'gbtree', min_child_weight = 10, subsample = 0.632)\n",
        "\n",
        "\n",
        "#xg_reg = xgb.XGBRegressor(objective ='reg:linear', max_depth=10, eta = 0.01, 'lambda':10, max_depth= 15, \n",
        "#                          min_child_weight=10, objective ='reg:linear', reg_alpha=0, num_class=3)\n",
        "\n",
        "xg_reg.fit(x_train,y_train)\n",
        "\n",
        "predictions = xg_reg.predict(x_test) \n",
        "win = 0\n",
        "loss = 0 \n",
        "overunder = []\n",
        "try:\n",
        "  for index, instance in dataset.iterrows():\n",
        "   actual = instance[\"Total.Score\"]\n",
        "   line = instance[\"Line\"]\n",
        "   prediction = round(predictions[index])\n",
        "   #print((index+1), \"actual = \", actual,\"prediction = \", prediction, \"Line  = \", line)\n",
        "   if prediction > line:\n",
        "    overunder.append(1)\n",
        "    print(\"over\")\n",
        "    if actual > line:\n",
        "     win = win + 1\n",
        "    elif actual <= line:\n",
        "     loss = loss + 1\n",
        "   elif prediction <= line:\n",
        "    overunder.append(0) \n",
        "    if actual < line: \n",
        "     win = win + 1\n",
        "    elif actual >= line:\n",
        "     loss = loss + 1   \n",
        "   #print(win,loss)  \n",
        "except IndexError:\n",
        "  print(\"\")\n",
        "\n",
        "with open('empty1.csv', 'w') as myfile:\n",
        "    wr = csv.writer(myfile, quoting=csv.QUOTE_ALL)\n",
        "    for val in overunder:\n",
        "      wr.writerow([val])\n",
        "\n",
        "total = (win)/(win+loss)\n",
        "print(\"Total win percentage is \", total*100, \"%\")\n",
        "print(overunder)\n",
        "\n"
      ],
      "execution_count": 0,
      "outputs": [
        {
          "output_type": "stream",
          "text": [
            "[23:19:31] WARNING: /workspace/src/objective/regression_obj.cu:152: reg:linear is now deprecated in favor of reg:squarederror.\n",
            "over\n",
            "\n",
            "Total win percentage is  53.125 %\n",
            "[0, 0, 0, 0, 0, 0, 0, 0, 0, 0, 0, 0, 0, 0, 0, 0, 0, 0, 0, 0, 0, 0, 0, 0, 0, 0, 0, 0, 0, 0, 0, 0, 0, 0, 0, 0, 0, 0, 0, 0, 0, 0, 0, 0, 0, 0, 0, 0, 0, 0, 0, 0, 0, 0, 0, 0, 0, 0, 0, 0, 0, 0, 0, 0, 0, 0, 0, 0, 0, 0, 0, 0, 0, 0, 0, 0, 0, 0, 0, 0, 0, 0, 0, 0, 0, 0, 0, 0, 0, 0, 0, 0, 0, 0, 0, 0, 0, 0, 0, 0, 0, 0, 0, 0, 0, 0, 0, 0, 0, 0, 0, 0, 0, 0, 0, 0, 1, 0, 0, 0, 0, 0, 0, 0, 0, 0, 0, 0, 0, 0, 0, 0, 0, 0, 0, 0, 0, 0, 0, 0, 0, 0, 0, 0, 0, 0, 0, 0, 0, 0, 0, 0, 0, 0, 0, 0, 0, 0, 0, 0]\n"
          ],
          "name": "stdout"
        }
      ]
    },
    {
      "cell_type": "code",
      "metadata": {
        "id": "_Upv2EJ541yo",
        "colab_type": "code",
        "outputId": "7f29fd9c-4e15-41a6-a88e-83fb5d735459",
        "colab": {
          "base_uri": "https://localhost:8080/",
          "height": 51
        }
      },
      "source": [
        "win = 0\n",
        "loss = 0 \n",
        "try:\n",
        "   \n",
        "except IndexError:\n",
        "  print(\"\")\n",
        "\n",
        "total = (win)/(win+loss)\n",
        "print(\"Total win percentage is \", total*100, \"%\")"
      ],
      "execution_count": 0,
      "outputs": [
        {
          "output_type": "stream",
          "text": [
            "\n",
            "Total win percentage is  51.07913669064749 %\n"
          ],
          "name": "stdout"
        }
      ]
    },
    {
      "cell_type": "code",
      "metadata": {
        "id": "j-HB9No970e_",
        "colab_type": "code",
        "colab": {}
      },
      "source": [
        ""
      ],
      "execution_count": 0,
      "outputs": []
    }
  ]
}